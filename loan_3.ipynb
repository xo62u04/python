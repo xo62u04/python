{
 "cells": [
  {
   "cell_type": "code",
   "execution_count": 6,
   "metadata": {
    "scrolled": false
   },
   "outputs": [
    {
     "name": "stdout",
     "output_type": "stream",
     "text": [
      "loan\\loan_data_test.csv\n",
      "loan\\loan_data_train.csv\n"
     ]
    }
   ],
   "source": [
    "from mpl_toolkits.mplot3d import Axes3D\n",
    "from sklearn.preprocessing import StandardScaler\n",
    "import matplotlib.pyplot as plt # plotting\n",
    "import numpy as np # linear algebra\n",
    "import os # accessing directory structure\n",
    "import pandas as pd # data processing, CSV file I/O (e.g. pd.read_csv)\n",
    "from sklearn import datasets\n",
    "from sklearn.model_selection import train_test_split\n",
    "from sklearn.neighbors import KNeighborsClassifier\n",
    "\n",
    "from sklearn import metrics, svm\n",
    "from sklearn import preprocessing\n",
    "from sklearn import utils\n",
    "\n",
    "import numpy as np\n",
    "#df = pd.read_csv('loan_data_train.csv', encoding='cp950')\n",
    "for dirname, _, filenames in os.walk('loan'):\n",
    "    for filename in filenames:\n",
    "        print(os.path.join(dirname, filename))"
   ]
  },
  {
   "cell_type": "code",
   "execution_count": 104,
   "metadata": {},
   "outputs": [],
   "source": [
    "nRowsRead = 3000 # specify 'None' if want to read whole file\n",
    "# loan_data_test.csv may have more rows in reality, but we are only loading/previewing the first 1000 rows\n",
    "df = pd.read_csv('loan/loan_data_train.csv', encoding='cp950', nrows = nRowsRead)\n",
    "df2 = pd.read_csv('loan/loan_data_test.csv', encoding='cp950', nrows = nRowsRead)"
   ]
  },
  {
   "cell_type": "code",
   "execution_count": 125,
   "metadata": {},
   "outputs": [],
   "source": [
    "def checkValue(result, origin, columns, columns_result):\n",
    "    rank = []\n",
    "    for i in range(len(result)):\n",
    "        if ( abs(result[i] - origin[i]) <= 500 ): \n",
    "            rank.append('A')\n",
    "        if ( abs(result[i] - origin[i]) <= 1000 & abs(result[i] - origin[i]) > 500 ): \n",
    "            rank.append('B')\n",
    "        if ( abs(result[i] - origin[i]) <= 1500 & abs(result[i] - origin[i]) > 1000 ): \n",
    "            rank.append('C')\n",
    "        if ( abs(result[i] - origin[i]) <= 2000 & abs(result[i] - origin[i]) > 1500 ): \n",
    "            rank.append('D')\n",
    "        if ( abs(result[i] - origin[i]) > 2000):\n",
    "            rank.append('F')\n",
    "    printRank(rank, columns, columns_result)"
   ]
  },
  {
   "cell_type": "code",
   "execution_count": 126,
   "metadata": {},
   "outputs": [],
   "source": [
    "def printRank(rank, columns, columns_result):\n",
    "    rank_df = pd.DataFrame(rank, columns=[\"rank\"])\n",
    "    rank_length = []\n",
    "    rank_length.append(len(rank_df.loc[ rank_df['rank'] == 'A']))\n",
    "    rank_length.append(len(rank_df.loc[ rank_df['rank'] == 'B']))\n",
    "    rank_length.append(len(rank_df.loc[ rank_df['rank'] == 'C']))\n",
    "    rank_length.append(len(rank_df.loc[ rank_df['rank'] == 'D']))\n",
    "    rank_length.append(len(rank_df.loc[ rank_df['rank'] == 'F']))\n",
    "    column_text = \"\"\n",
    "    for i in range(len(columns)):\n",
    "        if((i + 1) == len(columns)):\n",
    "            column_text += columns[i]\n",
    "            break\n",
    "        column_text += columns[i] + \", \"\n",
    "    print( '根據 ' + column_text + ' 預測' + columns_result + ' ')\n",
    "    print( \"rank A (誤差 500以下) 有 \" + str(rank_length[0]) + \"個\") \n",
    "    print( \"rank B (誤差 1000 ~ 500) 有 \" + str(rank_length[1]) + \"個\") \n",
    "    print( \"rank C (誤差 1500 ~ 1000) 有 \" + str(rank_length[2]) + \"個\") \n",
    "    print( \"rank D (誤差 2000 ~ 1500) 有 \" + str(rank_length[3]) + \"個\") \n",
    "    print( \"rank F (誤差 2000 以上) 有 \" + str(rank_length[4]) + \"個\")\n",
    "    ranked = ['A', 'B', 'C', 'D', 'F']\n",
    "    plt.ylabel(\"count\")          # 設定y軸標題 \n",
    "    plt.xlabel(\"ranked\")            # 設定x軸標題    \n",
    "    plt.bar(ranked, rank_length)\n"
   ]
  },
  {
   "cell_type": "code",
   "execution_count": 127,
   "metadata": {},
   "outputs": [],
   "source": [
    "columns_clear = ['客戶每月收入', '客戶要求的貸款金額', '銀行批准的客戶貸款金額', '信用平衡所有未清信貸額度的總債務餘額', '最後6個月客戶查詢的貸款數量','銀行為每個客戶確定的利率']\n",
    "columns = ['銀行批准的客戶貸款金額', '客戶每月收入', '最後6個月客戶查詢的貸款數量']\n",
    "columns_result = '銀行為每個客戶確定的利率'"
   ]
  },
  {
   "cell_type": "code",
   "execution_count": 128,
   "metadata": {},
   "outputs": [],
   "source": [
    "#清除空白值及 \".\"\n",
    "def data_present(column, df):\n",
    "    df[column].replace('\\n', 0.0, inplace=True)\n",
    "    df[column].replace('.', 0.0, inplace=True)\n",
    "    df[column].replace('nan', 0, inplace=True)\n",
    "    df[column] = df[column].astype(str).str.replace('%', \"\")\n",
    "    df[column] = df[column].fillna(df[column].median())\n",
    "    #df[column].astype('float64')\n",
    "    df[column] = pd.to_numeric(df[column])"
   ]
  },
  {
   "cell_type": "code",
   "execution_count": 129,
   "metadata": {},
   "outputs": [],
   "source": [
    "for clear in columns_clear:\n",
    "    data_present( clear, df2)\n",
    "    data_present( clear, df)"
   ]
  },
  {
   "cell_type": "code",
   "execution_count": 130,
   "metadata": {},
   "outputs": [],
   "source": [
    "train_data = df[columns]\n",
    "train_label = df[columns_result].astype('float64')\n",
    "test_data = df2[columns]\n",
    "test_label = df2[columns_result].astype('float64')\n",
    "\n",
    "#train_label = pd.to_numeric(df['由投資者提供的金額銀行批准的客戶貸款金額'], downcast='signed')\n",
    "test_label = np.asarray( test_label.astype('int64'))"
   ]
  },
  {
   "cell_type": "markdown",
   "metadata": {},
   "source": [
    "## knn = KNeighborsClassifier(n_neighbors = 10)\n",
    "knn.fit(train_data,train_label)"
   ]
  },
  {
   "cell_type": "code",
   "execution_count": 137,
   "metadata": {},
   "outputs": [],
   "source": [
    "train_la = train_label * 100"
   ]
  },
  {
   "cell_type": "code",
   "execution_count": 138,
   "metadata": {},
   "outputs": [
    {
     "data": {
      "text/plain": [
       "KNeighborsClassifier(algorithm='auto', leaf_size=30, metric='minkowski',\n",
       "                     metric_params=None, n_jobs=None, n_neighbors=10, p=2,\n",
       "                     weights='uniform')"
      ]
     },
     "execution_count": 138,
     "metadata": {},
     "output_type": "execute_result"
    }
   ],
   "source": [
    "knn = KNeighborsClassifier(n_neighbors = 10)\n",
    "knn.fit(train_data,train_la.astype('int'))"
   ]
  },
  {
   "cell_type": "code",
   "execution_count": 139,
   "metadata": {},
   "outputs": [],
   "source": [
    "result = knn.predict(test_data)"
   ]
  },
  {
   "cell_type": "code",
   "execution_count": 142,
   "metadata": {},
   "outputs": [
    {
     "data": {
      "text/plain": [
       "array([ 7.14, 10.99, 12.12, 12.12,  7.9 ,  8.59, 14.33,  9.99,  6.03,\n",
       "       17.27,  7.9 ,  7.9 , 10.16,  6.62,  8.9 ,  7.9 , 13.67,  6.03,\n",
       "        8.9 ,  8.9 , 10.74, 16.29,  6.92,  8.49, 11.12,  5.99, 12.12,\n",
       "       14.09, 12.12, 10.16,  6.03, 15.31,  9.76,  6.62,  6.62,  7.29,\n",
       "        8.9 ,  6.62,  7.9 , 18.55,  6.62,  5.99, 13.11,  9.76,  6.03,\n",
       "        9.76, 14.33,  7.62,  7.9 ,  5.79,  7.9 , 14.09, 17.77, 11.86,\n",
       "       21.49,  6.54, 14.09, 14.09,  8.9 , 12.12, 13.11, 15.31,  9.99,\n",
       "       18.75,  7.14,  6.03, 13.11, 14.33, 15.21,  7.29,  6.17, 11.71,\n",
       "        7.9 ,  7.9 , 14.09,  6.03,  8.9 ,  6.03,  7.9 , 17.77,  7.9 ,\n",
       "        8.9 ,  6.62,  5.42, 15.31,  5.79,  6.17, 16.82,  7.9 ,  8.9 ,\n",
       "        7.9 , 10.16,  6.03, 21.49,  7.9 , 16.82,  5.79,  7.9 ,  9.91,\n",
       "        6.62, 12.12,  7.9 ,  7.29,  8.59, 12.12, 10.16,  7.9 ,  9.32,\n",
       "       12.12,  8.88,  7.9 ,  8.9 ,  5.99, 13.99, 17.27, 12.12, 13.11,\n",
       "        6.54,  5.99,  6.03,  7.68, 12.12,  8.59,  5.42, 12.12,  6.62,\n",
       "       11.14, 16.29, 12.12,  7.9 , 17.77,  7.9 ,  7.88,  6.03, 15.31,\n",
       "       13.67,  8.9 ,  7.9 ,  7.62, 11.14, 12.12, 15.31, 10.16,  6.03,\n",
       "        5.79,  7.9 ,  6.99,  6.17,  6.03, 11.14,  6.99, 14.09, 14.09,\n",
       "       13.99,  6.54,  6.03, 11.14,  6.17,  5.79, 16.29,  5.99,  7.62,\n",
       "        6.17,  7.9 , 13.99,  5.42, 13.67, 13.11, 12.12,  6.03, 10.16,\n",
       "       16.29,  6.62,  6.03, 17.77,  6.62,  6.03,  7.68,  7.9 , 14.33,\n",
       "        6.62, 13.11, 14.33, 13.99, 12.12, 10.16,  6.99, 14.33,  5.42,\n",
       "       14.09,  7.88, 14.65, 15.31, 21.  , 13.11,  9.91,  5.42,  6.91,\n",
       "       15.23, 12.12,  7.62, 14.33, 12.12,  6.54, 14.27,  7.9 , 12.12,\n",
       "       10.16,  7.14,  6.62,  7.9 ,  7.14,  7.51, 15.31, 12.12,  5.79,\n",
       "        6.62, 10.16,  7.9 ,  5.42, 14.09, 13.11, 12.12, 15.31, 17.77,\n",
       "        9.99,  8.9 , 16.82,  5.79,  6.91,  6.62, 15.8 , 14.33,  5.79,\n",
       "        6.62,  5.79, 12.12, 10.65,  5.99, 12.12,  9.99, 21.  ,  6.03,\n",
       "        7.9 , 17.27,  7.51, 10.38,  7.14,  7.29,  6.62,  7.9 , 15.31,\n",
       "       12.12, 12.12,  6.62, 15.31, 16.29, 12.12,  5.99,  7.49,  6.62,\n",
       "       12.12,  8.9 ,  6.91, 17.27,  7.29,  7.9 , 13.67,  7.9 , 13.11,\n",
       "        6.62,  7.9 , 13.67, 10.16,  6.62,  6.17, 12.12,  7.51, 10.16,\n",
       "        7.9 , 13.11, 16.29,  7.9 , 13.11,  6.62,  6.17, 15.8 , 14.09,\n",
       "       17.77,  6.99, 12.69, 10.25,  5.79,  7.9 , 12.12,  6.62,  7.14,\n",
       "       11.14, 12.12, 12.12])"
      ]
     },
     "execution_count": 142,
     "metadata": {},
     "output_type": "execute_result"
    }
   ],
   "source": [
    "result / 100"
   ]
  },
  {
   "cell_type": "code",
   "execution_count": 140,
   "metadata": {},
   "outputs": [
    {
     "name": "stdout",
     "output_type": "stream",
     "text": [
      "根據 銀行批准的客戶貸款金額, 客戶每月收入, 最後6個月客戶查詢的貸款數量 預測銀行為每個客戶確定的利率 \n",
      "rank A (誤差 500以下) 有 0個\n",
      "rank B (誤差 1000 ~ 500) 有 2個\n",
      "rank C (誤差 1500 ~ 1000) 有 1個\n",
      "rank D (誤差 2000 ~ 1500) 有 0個\n",
      "rank F (誤差 2000 以上) 有 4個\n"
     ]
    },
    {
     "data": {
      "image/png": "[encoded data removed]",
      "text/plain": [
       "<Figure size 432x288 with 1 Axes>"
      ]
     },
     "metadata": {
      "needs_background": "light"
     },
     "output_type": "display_data"
    }
   ],
   "source": [
    "checkValue(result, test_label, columns, columns_result)"
   ]
  },
  {
   "cell_type": "code",
   "execution_count": null,
   "metadata": {},
   "outputs": [],
   "source": [
    "df"
   ]
  },
  {
   "cell_type": "code",
   "execution_count": null,
   "metadata": {},
   "outputs": [],
   "source": [
    "train_label"
   ]
  },
  {
   "cell_type": "code",
   "execution_count": 635,
   "metadata": {},
   "outputs": [
    {
     "data": {
      "text/plain": [
       "0         525.00\n",
       "1         200.00\n",
       "2        3100.00\n",
       "3         275.00\n",
       "4         917.28\n",
       "          ...   \n",
       "2195     9875.00\n",
       "2196     6500.00\n",
       "2197     8000.00\n",
       "2198     8000.00\n",
       "2199    16000.00\n",
       "Name: 銀行批准的客戶貸款金額, Length: 2200, dtype: float64"
      ]
     },
     "execution_count": 635,
     "metadata": {},
     "output_type": "execute_result"
    }
   ],
   "source": [
    "df['銀行批准的客戶貸款金額']"
   ]
  },
  {
   "cell_type": "markdown",
   "metadata": {},
   "source": [
    "### train_data = []\n",
    "train_label = []\n",
    "\n",
    "lab_enc = preprocessing.LabelEncoder()\n",
    "training_scores_encoded = lab_enc.fit_transform(df['由投資者提供的金額銀行批准的客戶貸款金額'])\n",
    "\n",
    "train_data = df[['客戶要求的貸款金額','信用平衡所有未清信貸額度的總債務餘額']]\n",
    "train_label = df['由投資者提供的金額銀行批准的客戶貸款金額'].astype('int64')\n",
    "test_data = df2[['客戶要求的貸款金額','信用平衡所有未清信貸額度的總債務餘額']]\n",
    "test_label = df2['由投資者提供的金額銀行批准的客戶貸款金額']\n",
    "\n",
    "knn.fit(train_data,train_label)\n"
   ]
  },
  {
   "cell_type": "code",
   "execution_count": null,
   "metadata": {},
   "outputs": [],
   "source": []
  }
 ],
 "metadata": {
  "kernelspec": {
   "display_name": "Python 3",
   "language": "python",
   "name": "python3"
  },
  "language_info": {
   "codemirror_mode": {
    "name": "ipython",
    "version": 3
   },
   "file_extension": ".py",
   "mimetype": "text/x-python",
   "name": "python",
   "nbconvert_exporter": "python",
   "pygments_lexer": "ipython3",
   "version": "3.7.4"
  }
 },
 "nbformat": 4,
 "nbformat_minor": 2
}
